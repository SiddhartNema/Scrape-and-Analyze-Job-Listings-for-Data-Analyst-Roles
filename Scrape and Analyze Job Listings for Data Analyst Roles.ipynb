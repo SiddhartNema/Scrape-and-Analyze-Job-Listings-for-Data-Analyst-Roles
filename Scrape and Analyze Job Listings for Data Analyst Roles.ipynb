{
 "cells": [
  {
   "cell_type": "code",
   "execution_count": 1,
   "id": "048177b0-3ff3-4aee-8998-a06864e2835d",
   "metadata": {},
   "outputs": [],
   "source": [
    "import requests\n",
    "from bs4 import BeautifulSoup\n"
   ]
  },
  {
   "cell_type": "code",
   "execution_count": 2,
   "id": "9fad07cd-938c-47a7-82ff-60316e701291",
   "metadata": {},
   "outputs": [],
   "source": [
    "url = \"https://internshala.com/internships/data-analytics-internship/\"\n",
    "headers = {\n",
    "    \"User-Agent\": \"Mozilla/5.0\"  # Some websites block requests without a user-agent\n",
    "}\n",
    "\n",
    "response = requests.get(url, headers=headers)\n",
    "soup = BeautifulSoup(response.content, \"html.parser\")\n"
   ]
  },
  {
   "cell_type": "code",
   "execution_count": 4,
   "id": "98db63d0-9463-43d5-9e3e-17f880d9541e",
   "metadata": {},
   "outputs": [],
   "source": [
    "internships = soup.find_all('div', class_=\"individual_internship\")\n",
    "\n",
    "for i in internships:\n",
    "    try:\n",
    "        title = i.find('div', class_='heading_4_5 profile').text.strip()\n",
    "        company = i.find('div', class_='company_name').text.strip()\n",
    "        location = i.find('a', class_='location_link').text.strip()\n",
    "        \n",
    "        print(\"Title:\", title)\n",
    "        print(\"Company:\", company)\n",
    "        print(\"Location:\", location)\n",
    "        print('-'*50)\n",
    "    except:\n",
    "        continue\n"
   ]
  },
  {
   "cell_type": "code",
   "execution_count": 5,
   "id": "8b97ae6b-58b9-437f-aeeb-774f3a5a9d1a",
   "metadata": {},
   "outputs": [
    {
     "data": {
      "text/html": [
       "<div>\n",
       "<style scoped>\n",
       "    .dataframe tbody tr th:only-of-type {\n",
       "        vertical-align: middle;\n",
       "    }\n",
       "\n",
       "    .dataframe tbody tr th {\n",
       "        vertical-align: top;\n",
       "    }\n",
       "\n",
       "    .dataframe thead th {\n",
       "        text-align: right;\n",
       "    }\n",
       "</style>\n",
       "<table border=\"1\" class=\"dataframe\">\n",
       "  <thead>\n",
       "    <tr style=\"text-align: right;\">\n",
       "      <th></th>\n",
       "      <th>Internship Title</th>\n",
       "      <th>Company</th>\n",
       "      <th>Location</th>\n",
       "    </tr>\n",
       "  </thead>\n",
       "  <tbody>\n",
       "  </tbody>\n",
       "</table>\n",
       "</div>"
      ],
      "text/plain": [
       "Empty DataFrame\n",
       "Columns: [Internship Title, Company, Location]\n",
       "Index: []"
      ]
     },
     "execution_count": 5,
     "metadata": {},
     "output_type": "execute_result"
    }
   ],
   "source": [
    "import pandas as pd\n",
    "\n",
    "data = []\n",
    "\n",
    "for i in internships:\n",
    "    try:\n",
    "        title = i.find('div', class_='heading_4_5 profile').text.strip()\n",
    "        company = i.find('div', class_='company_name').text.strip()\n",
    "        location = i.find('a', class_='location_link').text.strip()\n",
    "        data.append([title, company, location])\n",
    "    except:\n",
    "        continue\n",
    "\n",
    "df = pd.DataFrame(data, columns=['Internship Title', 'Company', 'Location'])\n",
    "df.head()\n"
   ]
  },
  {
   "cell_type": "code",
   "execution_count": 6,
   "id": "024aa4fb-5f54-44e2-82db-f2d6fcc26ecf",
   "metadata": {},
   "outputs": [],
   "source": [
    "df.to_csv(\"internshala_data_analytics.csv\", index=False)\n"
   ]
  },
  {
   "cell_type": "code",
   "execution_count": null,
   "id": "b343e781-2fe0-429f-a860-d8b5e06e07bb",
   "metadata": {},
   "outputs": [],
   "source": []
  }
 ],
 "metadata": {
  "kernelspec": {
   "display_name": "Python 3 (ipykernel)",
   "language": "python",
   "name": "python3"
  },
  "language_info": {
   "codemirror_mode": {
    "name": "ipython",
    "version": 3
   },
   "file_extension": ".py",
   "mimetype": "text/x-python",
   "name": "python",
   "nbconvert_exporter": "python",
   "pygments_lexer": "ipython3",
   "version": "3.10.11"
  }
 },
 "nbformat": 4,
 "nbformat_minor": 5
}
